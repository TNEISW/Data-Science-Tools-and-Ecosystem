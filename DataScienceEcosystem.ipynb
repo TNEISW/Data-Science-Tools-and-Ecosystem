{
 "cells": [
  {
   "cell_type": "markdown",
   "id": "b48e6a76",
   "metadata": {},
   "source": [
    "<H1> Data Science Tools and Ecosystem"
   ]
  },
  {
   "cell_type": "markdown",
   "id": "4f2a2e17",
   "metadata": {},
   "source": [
    "In this notebook, Data Science Tools and Ecosystem are summarized "
   ]
  },
  {
   "cell_type": "markdown",
   "id": "20f059e3",
   "metadata": {},
   "source": [
    "<b> Objectives: </b>\n",
    "* List popular languages for Data Science\n",
    "* Commonly used libraries by Data Scientists\n",
    "* Tools used by Data Scientist"
   ]
  },
  {
   "cell_type": "markdown",
   "id": "4a888ebe",
   "metadata": {},
   "source": [
    "Some of the popular languages that Data Scientists use are:\n",
    "<ol> <li> Python <li> R <li> SQL"
   ]
  },
  {
   "cell_type": "markdown",
   "id": "6a78f127",
   "metadata": {},
   "source": [
    "Some of the commonly used libraries used by Data Scientists include:\n",
    "<ol> <li> Pandas <li> NumPy <li> Scikit-Learn"
   ]
  },
  {
   "cell_type": "markdown",
   "id": "3191dc3b",
   "metadata": {},
   "source": [
    "| <H1> Data Science Tools |\n",
    "|-----------------------|\n",
    "| RStudio |\n",
    "| Apache Spark |\n",
    "| TensorFlow |"
   ]
  },
  {
   "cell_type": "markdown",
   "id": "e6410fa4",
   "metadata": {},
   "source": [
    "<H3> Below are a few examples of evaluating arithmetic expressions in Python"
   ]
  },
  {
   "cell_type": "code",
   "execution_count": 27,
   "id": "53948c0e",
   "metadata": {},
   "outputs": [
    {
     "data": {
      "text/plain": [
       "17"
      ]
     },
     "execution_count": 27,
     "metadata": {},
     "output_type": "execute_result"
    }
   ],
   "source": [
    "#This a simple arithmetic expression to mutiply then add integers\n",
    "\n",
    "(3*4)+5"
   ]
  },
  {
   "cell_type": "code",
   "execution_count": 28,
   "id": "b38f6ad7",
   "metadata": {},
   "outputs": [
    {
     "name": "stdout",
     "output_type": "stream",
     "text": [
      "enter minutes : 200\n",
      "3:20\n"
     ]
    }
   ],
   "source": [
    "#This will convert 200 minutes to hours by divding by 60\n",
    "\n",
    "m = int(input(\"enter minutes : \"))\n",
    "hour = m//60\n",
    "minutes = m%60\n",
    "\n",
    "m = m%60\n",
    "hours = m//60\n",
    "\n",
    "print(\"%d:%d\"%(hour,minutes))"
   ]
  },
  {
   "cell_type": "markdown",
   "id": "96f438d6",
   "metadata": {},
   "source": [
    "<H2> Authour </H2>\n",
    "\n",
    "Adrian Porcayo"
   ]
  },
  {
   "cell_type": "code",
   "execution_count": null,
   "id": "b007bbfe",
   "metadata": {},
   "outputs": [],
   "source": []
  }
 ],
 "metadata": {
  "kernelspec": {
   "display_name": "Python 3 (ipykernel)",
   "language": "python",
   "name": "python3"
  },
  "language_info": {
   "codemirror_mode": {
    "name": "ipython",
    "version": 3
   },
   "file_extension": ".py",
   "mimetype": "text/x-python",
   "name": "python",
   "nbconvert_exporter": "python",
   "pygments_lexer": "ipython3",
   "version": "3.11.3"
  }
 },
 "nbformat": 4,
 "nbformat_minor": 5
}
